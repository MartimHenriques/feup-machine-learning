{
 "cells": [
  {
   "cell_type": "markdown",
   "metadata": {},
   "source": [
    "## Data Preparation\n"
   ]
  },
  {
   "cell_type": "code",
   "execution_count": 20,
   "metadata": {},
   "outputs": [],
   "source": [
    "import pandas as pd\n",
    "import matplotlib.pyplot as plt\n",
    "import seaborn as sb\n",
    "import os\n",
    "from scipy.stats import pointbiserialr\n",
    "from scipy.stats import pearsonr\n",
    "\n",
    "#include utils directory\n",
    "import sys\n",
    "sys.path.append('..')\n",
    "\n",
    "from utils.files import *\n",
    "DATA_PATH = os.path.join('..', 'data')\n",
    "\n",
    "from utils.metrics import *"
   ]
  },
  {
   "cell_type": "code",
   "execution_count": 21,
   "metadata": {},
   "outputs": [
    {
     "data": {
      "text/html": [
       "<div>\n",
       "<style scoped>\n",
       "    .dataframe tbody tr th:only-of-type {\n",
       "        vertical-align: middle;\n",
       "    }\n",
       "\n",
       "    .dataframe tbody tr th {\n",
       "        vertical-align: top;\n",
       "    }\n",
       "\n",
       "    .dataframe thead th {\n",
       "        text-align: right;\n",
       "    }\n",
       "</style>\n",
       "<table border=\"1\" class=\"dataframe\">\n",
       "  <thead>\n",
       "    <tr style=\"text-align: right;\">\n",
       "      <th></th>\n",
       "      <th>playerID</th>\n",
       "      <th>year</th>\n",
       "      <th>tmID</th>\n",
       "      <th>PER</th>\n",
       "      <th>EFF</th>\n",
       "    </tr>\n",
       "  </thead>\n",
       "  <tbody>\n",
       "    <tr>\n",
       "      <th>0</th>\n",
       "      <td>abrossv01w</td>\n",
       "      <td>2</td>\n",
       "      <td>MIN</td>\n",
       "      <td>24.671154</td>\n",
       "      <td>0.379433</td>\n",
       "    </tr>\n",
       "    <tr>\n",
       "      <th>1</th>\n",
       "      <td>abrossv01w</td>\n",
       "      <td>3</td>\n",
       "      <td>MIN</td>\n",
       "      <td>17.144159</td>\n",
       "      <td>0.277019</td>\n",
       "    </tr>\n",
       "    <tr>\n",
       "      <th>2</th>\n",
       "      <td>abrossv01w</td>\n",
       "      <td>4</td>\n",
       "      <td>MIN</td>\n",
       "      <td>23.437776</td>\n",
       "      <td>0.368177</td>\n",
       "    </tr>\n",
       "    <tr>\n",
       "      <th>3</th>\n",
       "      <td>abrossv01w</td>\n",
       "      <td>5</td>\n",
       "      <td>MIN</td>\n",
       "      <td>11.492671</td>\n",
       "      <td>0.304348</td>\n",
       "    </tr>\n",
       "    <tr>\n",
       "      <th>4</th>\n",
       "      <td>abrossv01w</td>\n",
       "      <td>6</td>\n",
       "      <td>MIN</td>\n",
       "      <td>18.800674</td>\n",
       "      <td>0.332046</td>\n",
       "    </tr>\n",
       "    <tr>\n",
       "      <th>...</th>\n",
       "      <td>...</td>\n",
       "      <td>...</td>\n",
       "      <td>...</td>\n",
       "      <td>...</td>\n",
       "      <td>...</td>\n",
       "    </tr>\n",
       "    <tr>\n",
       "      <th>1871</th>\n",
       "      <td>zakalok01w</td>\n",
       "      <td>3</td>\n",
       "      <td>PHO</td>\n",
       "      <td>-0.412979</td>\n",
       "      <td>-0.027027</td>\n",
       "    </tr>\n",
       "    <tr>\n",
       "      <th>1872</th>\n",
       "      <td>zarafr01w</td>\n",
       "      <td>6</td>\n",
       "      <td>SEA</td>\n",
       "      <td>7.313349</td>\n",
       "      <td>0.243736</td>\n",
       "    </tr>\n",
       "    <tr>\n",
       "      <th>1873</th>\n",
       "      <td>zellosh01w</td>\n",
       "      <td>10</td>\n",
       "      <td>DET</td>\n",
       "      <td>31.329987</td>\n",
       "      <td>0.429778</td>\n",
       "    </tr>\n",
       "    <tr>\n",
       "      <th>1874</th>\n",
       "      <td>zirkozu01w</td>\n",
       "      <td>4</td>\n",
       "      <td>WAS</td>\n",
       "      <td>0.771033</td>\n",
       "      <td>0.333333</td>\n",
       "    </tr>\n",
       "    <tr>\n",
       "      <th>1875</th>\n",
       "      <td>zollsh01w</td>\n",
       "      <td>9</td>\n",
       "      <td>MIN</td>\n",
       "      <td>0.597712</td>\n",
       "      <td>0.233333</td>\n",
       "    </tr>\n",
       "  </tbody>\n",
       "</table>\n",
       "<p>1876 rows × 5 columns</p>\n",
       "</div>"
      ],
      "text/plain": [
       "        playerID  year tmID        PER       EFF\n",
       "0     abrossv01w     2  MIN  24.671154  0.379433\n",
       "1     abrossv01w     3  MIN  17.144159  0.277019\n",
       "2     abrossv01w     4  MIN  23.437776  0.368177\n",
       "3     abrossv01w     5  MIN  11.492671  0.304348\n",
       "4     abrossv01w     6  MIN  18.800674  0.332046\n",
       "...          ...   ...  ...        ...       ...\n",
       "1871  zakalok01w     3  PHO  -0.412979 -0.027027\n",
       "1872   zarafr01w     6  SEA   7.313349  0.243736\n",
       "1873  zellosh01w    10  DET  31.329987  0.429778\n",
       "1874  zirkozu01w     4  WAS   0.771033  0.333333\n",
       "1875   zollsh01w     9  MIN   0.597712  0.233333\n",
       "\n",
       "[1876 rows x 5 columns]"
      ]
     },
     "metadata": {},
     "output_type": "display_data"
    }
   ],
   "source": [
    "# Players\n",
    "players_teams_df = pd.read_csv(os.path.join(DATA_PATH, DATA_PLAYERS_TEAMS))\n",
    "pt_df = preparePlayersTeamsDf(players_teams_df)\n",
    "\n",
    "new_pt_df = pd.DataFrame()\n",
    "for col in ['playerID', 'year', 'tmID']:\n",
    "    new_pt_df[col] = pt_df[col]\n",
    "\n",
    "teams_df = pd.read_csv(os.path.join(DATA_PATH, DATA_TEAMS))\n",
    "teams_df = prepareTeamsDf(teams_df)\n",
    "\n",
    "getPer(new_pt_df, pt_df, teams_df) #defined in metrics.py\n",
    "getEFF(new_pt_df, pt_df) #defined in metrics.py\n",
    "\n",
    "display(new_pt_df)\n",
    "\n",
    "# get the average stats for players the previous year\n",
    "merged_df = teams_df[['year', 'tmID', 'playoff', 'confID']].copy()\n",
    "for index, row in merged_df.iterrows():\n",
    "    merged_df.loc[index, 'per'] = new_pt_df[(new_pt_df['year'] == row['year'] - 1) & (new_pt_df['tmID'] == row['tmID'])]['PER'].mean()\n",
    "    merged_df.loc[index, 'eff'] = new_pt_df[(new_pt_df['year'] == row['year'] - 1) & (new_pt_df['tmID'] == row['tmID'])]['EFF'].mean()\n"
   ]
  },
  {
   "cell_type": "markdown",
   "metadata": {},
   "source": [
    "### Team Ratings\n",
    "#### OER and DER\n",
    "\n",
    "This metrics are team statistics that the define the efficiency of a team regarding both offensive play (OER) and defensive play (DER).\n",
    "The formula for both metrics is shown below.\n",
    "\n",
    "\\begin{aligned}\n",
    "& \\text{OER} = \\frac{\\text{o\\_pts}}{\\text{o\\_fga} + (\\text{o\\_fta} * 0.9) / 2 + \\text{o\\_to}}\n",
    "\\end{aligned}\n",
    "\n",
    "\\begin{aligned}\n",
    "& \\text{DER} = \\frac{\\text{d\\_points}}{\\text{d\\_fga} + (\\text{d\\_fta} * 0.9) / 2 + \\text{d\\_to}}\n",
    "\\end{aligned}"
   ]
  },
  {
   "cell_type": "code",
   "execution_count": 22,
   "metadata": {},
   "outputs": [],
   "source": [
    "teams_df['oer'] = teams_df['o_pts'] / (teams_df['o_fga'] + (teams_df['o_fta'] * 0.9) / 2 + teams_df['o_to'])\n",
    "\n",
    "teams_df['der'] = teams_df['d_pts'] / (teams_df['d_fga'] + (teams_df['d_fta'] * 0.9) / 2 + teams_df['d_to'])\n",
    "\n",
    "# Merge\n",
    "teams_df['year'] = teams_df['year'] + 1\n",
    "#teams_df['playoff_prev'] = teams_df['playoff']\n",
    "teams_df['rank_prev'] = teams_df['rank']\n",
    "teams_df.drop(columns=['playoff', 'rank'], inplace=True)\n",
    "merged_df = pd.merge(merged_df, teams_df[['year', 'tmID', 'oer', 'der']], on=['year', 'tmID'], how='left')"
   ]
  },
  {
   "cell_type": "markdown",
   "metadata": {},
   "source": [
    "### Coach Ratings\n",
    "\n",
    "To measure the coach efficiency, we are gonna use a simple win-loss ratio:\n",
    "\n",
    "\\begin{aligned}\n",
    "& \\text{Coach Rating} = \\frac{\\text{Wins}}{\\text{Wins} + \\text{Losses}}\n",
    "\\end{aligned}\n"
   ]
  },
  {
   "cell_type": "code",
   "execution_count": 23,
   "metadata": {},
   "outputs": [],
   "source": [
    "coaches_df = pd.read_csv(os.path.join(DATA_PATH, DATA_COACHES))\n",
    "coaches_df = prepareCoachesDf(coaches_df)\n",
    "\n",
    "coaches_temp = coaches_df[['coachID', 'year', 'tmID']]\n",
    "merged_df = pd.merge(merged_df, coaches_temp, on=['year', 'tmID'], how='left')\n",
    "coaches_df['year'] = coaches_df['year'] + 1\n",
    "coaches_df.drop(columns=['tmID'], inplace=True)\n",
    "merged_df = pd.merge(merged_df, coaches_df, on=['year', 'coachID'], how='left')\n",
    "merged_df['coachWLRatio'] = merged_df['coachWLRatio'].fillna(merged_df['coachWLRatio'].mean())\n",
    "merged_df.drop(columns=['coachID'], inplace=True)"
   ]
  },
  {
   "cell_type": "code",
   "execution_count": 24,
   "metadata": {},
   "outputs": [
    {
     "data": {
      "text/html": [
       "<div>\n",
       "<style scoped>\n",
       "    .dataframe tbody tr th:only-of-type {\n",
       "        vertical-align: middle;\n",
       "    }\n",
       "\n",
       "    .dataframe tbody tr th {\n",
       "        vertical-align: top;\n",
       "    }\n",
       "\n",
       "    .dataframe thead th {\n",
       "        text-align: right;\n",
       "    }\n",
       "</style>\n",
       "<table border=\"1\" class=\"dataframe\">\n",
       "  <thead>\n",
       "    <tr style=\"text-align: right;\">\n",
       "      <th></th>\n",
       "      <th>year</th>\n",
       "      <th>playoff</th>\n",
       "      <th>confID</th>\n",
       "      <th>per</th>\n",
       "      <th>eff</th>\n",
       "      <th>oer</th>\n",
       "      <th>der</th>\n",
       "      <th>coachWLRatio</th>\n",
       "    </tr>\n",
       "  </thead>\n",
       "  <tbody>\n",
       "    <tr>\n",
       "      <th>1</th>\n",
       "      <td>10</td>\n",
       "      <td>1</td>\n",
       "      <td>EA</td>\n",
       "      <td>11.398591</td>\n",
       "      <td>0.331618</td>\n",
       "      <td>0.797545</td>\n",
       "      <td>0.891856</td>\n",
       "      <td>0.133333</td>\n",
       "    </tr>\n",
       "    <tr>\n",
       "      <th>3</th>\n",
       "      <td>2</td>\n",
       "      <td>1</td>\n",
       "      <td>EA</td>\n",
       "      <td>12.237540</td>\n",
       "      <td>0.306456</td>\n",
       "      <td>0.822222</td>\n",
       "      <td>0.906952</td>\n",
       "      <td>0.391304</td>\n",
       "    </tr>\n",
       "    <tr>\n",
       "      <th>4</th>\n",
       "      <td>3</td>\n",
       "      <td>1</td>\n",
       "      <td>EA</td>\n",
       "      <td>16.272494</td>\n",
       "      <td>0.286357</td>\n",
       "      <td>0.824771</td>\n",
       "      <td>0.789112</td>\n",
       "      <td>1.222222</td>\n",
       "    </tr>\n",
       "    <tr>\n",
       "      <th>5</th>\n",
       "      <td>4</td>\n",
       "      <td>1</td>\n",
       "      <td>EA</td>\n",
       "      <td>14.459296</td>\n",
       "      <td>0.347968</td>\n",
       "      <td>0.897711</td>\n",
       "      <td>0.853166</td>\n",
       "      <td>1.351403</td>\n",
       "    </tr>\n",
       "    <tr>\n",
       "      <th>6</th>\n",
       "      <td>5</td>\n",
       "      <td>0</td>\n",
       "      <td>EA</td>\n",
       "      <td>16.803166</td>\n",
       "      <td>0.341276</td>\n",
       "      <td>0.838661</td>\n",
       "      <td>0.821743</td>\n",
       "      <td>1.000000</td>\n",
       "    </tr>\n",
       "  </tbody>\n",
       "</table>\n",
       "</div>"
      ],
      "text/plain": [
       "   year  playoff confID        per       eff       oer       der  coachWLRatio\n",
       "1    10        1     EA  11.398591  0.331618  0.797545  0.891856      0.133333\n",
       "3     2        1     EA  12.237540  0.306456  0.822222  0.906952      0.391304\n",
       "4     3        1     EA  16.272494  0.286357  0.824771  0.789112      1.222222\n",
       "5     4        1     EA  14.459296  0.347968  0.897711  0.853166      1.351403\n",
       "6     5        0     EA  16.803166  0.341276  0.838661  0.821743      1.000000"
      ]
     },
     "execution_count": 24,
     "metadata": {},
     "output_type": "execute_result"
    }
   ],
   "source": [
    "merged_df['playoff'] = merged_df['playoff'].eq('Y').mul(1)\n",
    "merged_df.drop(columns=['tmID'], inplace=True)\n",
    "merged_df.dropna(axis=0, inplace=True)\n",
    "merged_df.head()"
   ]
  },
  {
   "cell_type": "code",
   "execution_count": 25,
   "metadata": {},
   "outputs": [],
   "source": [
    "# Save the result to a new CSV file\n",
    "merged_df.to_csv(os.path.join(DATA_PATH, DATA_MERGED), index=False)"
   ]
  },
  {
   "cell_type": "markdown",
   "metadata": {},
   "source": [
    "## Analysis of engineered features"
   ]
  },
  {
   "cell_type": "code",
   "execution_count": 26,
   "metadata": {},
   "outputs": [
    {
     "name": "stdout",
     "output_type": "stream",
     "text": [
      "PER and EFF correlation: 0.553\n"
     ]
    },
    {
     "data": {
      "image/png": "[encoded data removed]",
      "text/plain": [
       "<Figure size 1500x500 with 2 Axes>"
      ]
     },
     "metadata": {},
     "output_type": "display_data"
    }
   ],
   "source": [
    "corr = merged_df['per'].corr(merged_df['eff'])\n",
    "print(f\"PER and EFF correlation: {round(corr, 3)}\")\n",
    "\n",
    "# Create subplots with 1 row and 2 columns\n",
    "fig, axes = plt.subplots(1, 2, figsize=(15, 5))\n",
    "\n",
    "# Create a box plot for PER and Playoff\n",
    "sb.boxplot(x='playoff', y='per', data=merged_df, ax=axes[0])\n",
    "axes[0].set_title('PER and Playoff')\n",
    "\n",
    "# Create a box plot for EFF and Playoff\n",
    "sb.boxplot(x='playoff', y='eff', data=merged_df, ax=axes[1])\n",
    "axes[1].set_title('EFF and Playoff')\n",
    "\n",
    "# Adjust the layout\n",
    "plt.tight_layout()\n",
    "plt.show()"
   ]
  },
  {
   "cell_type": "code",
   "execution_count": 27,
   "metadata": {},
   "outputs": [
    {
     "data": {
      "image/png": "[encoded data removed]",
      "text/plain": [
       "<Figure size 1500x500 with 2 Axes>"
      ]
     },
     "metadata": {},
     "output_type": "display_data"
    }
   ],
   "source": [
    "\n",
    "# Create subplots with 1 row and 2 columns\n",
    "fig, axes = plt.subplots(1, 2, figsize=(15, 5))\n",
    "\n",
    "# Create a box plot for OER and Playoff\n",
    "sb.boxplot(x='playoff', y='oer', data=merged_df, ax=axes[0])\n",
    "axes[0].set_title('OER and Playoff')\n",
    "\n",
    "# Create a box plot for DER and Playoff\n",
    "sb.boxplot(x='playoff', y='der', data=merged_df, ax=axes[1])\n",
    "axes[1].set_title('DER and Playoff')\n",
    "\n",
    "# Adjust the layout\n",
    "plt.tight_layout()\n",
    "plt.show()\n"
   ]
  },
  {
   "cell_type": "code",
   "execution_count": 28,
   "metadata": {},
   "outputs": [
    {
     "name": "stdout",
     "output_type": "stream",
     "text": [
      "0.03428367689048164\n"
     ]
    }
   ],
   "source": [
    "corr_df = pd.DataFrame()\n",
    "corr_df['variable'] = ['per', 'eff', 'oer', 'der']\n",
    "for index, row in corr_df.iterrows():\n",
    "    #corr_df.loc[index, 'corr'], _ = pearsonr(merged_df[row['variable']], merged_df['playoff'])\n",
    "    #corr_df.loc[index, 'corr'] = merged_df[row['variable']].corr(merged_df['playoff'])\n",
    "    corr_df.loc[index, 'corr'], _ = pointbiserialr(merged_df[row['variable']], (merged_df['playoff']))\n",
    "\n",
    "corr_df\n",
    "\n",
    "test, _ = pointbiserialr(merged_df['eff'], (merged_df['playoff']))\n",
    "print(test)"
   ]
  },
  {
   "cell_type": "markdown",
   "metadata": {},
   "source": [
    "### References\n",
    "\n",
    "<a id=\"ref1\"></a> [1] Maroun, E. (2012, March 7). Understanding advanced statistics: player efficiency rating. Hardwood Paroxysm. https://web.archive.org/web/20170910105350/https://hardwoodparoxysm.com/2012/03/07/understanding-advanced-statistics-player-efficiency-rating/\n",
    "\n",
    "<a id=\"ref2\"></a> [2] Calculating PER | Basketball-Reference.com. (n.d.). Basketball-Reference.com. https://www.basketball-reference.com/about/per.html"
   ]
  }
 ],
 "metadata": {
  "kernelspec": {
   "display_name": "Python 3",
   "language": "python",
   "name": "python3"
  },
  "language_info": {
   "codemirror_mode": {
    "name": "ipython",
    "version": 3
   },
   "file_extension": ".py",
   "mimetype": "text/x-python",
   "name": "python",
   "nbconvert_exporter": "python",
   "pygments_lexer": "ipython3",
   "version": "3.10.12"
  }
 },
 "nbformat": 4,
 "nbformat_minor": 2
}
